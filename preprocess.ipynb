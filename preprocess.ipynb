{
 "cells": [
  {
   "cell_type": "code",
   "execution_count": 2,
   "metadata": {},
   "outputs": [],
   "source": [
    "import pandas as pd\n",
    "import regex as re\n",
    "from underthesea import word_tokenize"
   ]
  },
  {
   "cell_type": "markdown",
   "metadata": {},
   "source": [
    "### Đọc dữ liệu từ file text vào pandas Dataframe\n",
    "\n",
    "Dữ liệu của bài toán được cho ở dạng file text gồm nhiều dòng\n",
    "- Mỗi dòng chứa một đoạn văn bản và chủ đề tương ứng\n",
    "- Chủ đề nằm ở đầu dòng, có dạng __label__topic\n",
    "- Chủ đề ngăn cách với đoạn văn bản bằng một dấu cách\n",
    "\n",
    "Để thuận tiện cho việc xử lý dữ liệu trong Python, ta thường lưu dữ liệu vào trong Dataframe của thư viện pandas - một loại cấu trúc dữ liệu dạng bảng. \n",
    "\n",
    "Trong nhiều trường hợp, Dataframe nhanh hơn, dễ sử dụng hơn và mạnh hơn bảng hoặc spreadsheets thông thường vì chúng là một phần không thể thiếu của hệ sinh thái Python và NumPy.\n",
    "\n",
    "Thông thường dữ liệu được lưu ở định dạng file .csv (các trường dữ liệu cách nhau bởi dấu phẩy). Khi đó ta chỉ cần gọi hàm read_csv() của thư viện pandas để đọc dữ liệu. Tuy nhiên ở bài toán này, label lại ngăn cách với paragraph bởi dấu cách, vì vậy ta phải đọc dữ liệu một cách thủ công bằng đoạn mã sau."
   ]
  },
  {
   "cell_type": "code",
   "execution_count": 17,
   "metadata": {},
   "outputs": [
    {
     "name": "stdout",
     "output_type": "stream",
     "text": [
      "                                   label  \\\n",
      "0                       __label__Du_lich   \n",
      "1                       __label__Nha_dat   \n",
      "2                       __label__Nha_dat   \n",
      "3                       __label__Nha_dat   \n",
      "4                       __label__Mua_sam   \n",
      "5                       __label__Nha_dat   \n",
      "6                     __label__Tai_chinh   \n",
      "7                       __label__Mua_sam   \n",
      "8                       __label__Du_lich   \n",
      "9   __label__Mang_internet_va_vien_thong   \n",
      "10                      __label__Nha_dat   \n",
      "11                  __label__Nha_va_vuon   \n",
      "12    __label__Kinh_doanh_va_Cong_nghiep   \n",
      "13    __label__Kinh_doanh_va_Cong_nghiep   \n",
      "14                   __label__Nghe_thuat   \n",
      "15    __label__Kinh_doanh_va_Cong_nghiep   \n",
      "16                     __label__Giao_duc   \n",
      "17          __label__Lam_dep_va_the_hinh   \n",
      "18    __label__Kinh_doanh_va_Cong_nghiep   \n",
      "19                     __label__Giao_duc   \n",
      "20                      __label__Nha_dat   \n",
      "21                     __label__Giao_duc   \n",
      "22                      __label__Nha_dat   \n",
      "23                      __label__Du_lich   \n",
      "24          __label__Con_nguoi_va_xa_hoi   \n",
      "25                   __label__Nghe_thuat   \n",
      "26                         __label__Sach   \n",
      "27                    __label__Chinh_tri   \n",
      "28             __label__Do_an_va_do_uong   \n",
      "29                    __label__Tai_chinh   \n",
      "\n",
      "                                            paragraph  \n",
      "0   Theo hành trình tour du lịch Mỹ - Bờ Đông, du ...  \n",
      "1   mình cần tìm 1 phòng cho khoảng 3 người  quanh...  \n",
      "2   Cho thuê nhà riêng dt 60m/sàn.  Có 4 phòng ngủ...  \n",
      "3   Cho thuê nhà ở tầng 4 khép kín, 4/295 Nguyễn K...  \n",
      "4   ► Crumpler jackpack full photo ► giá : 800.000...  \n",
      "5   Đăng hộ chủ nhà 58 ngõ 83 Đào Tấn gần Lotte,  ...  \n",
      "6   Cả nhà cho em hỏi với ạ.  Công ty em hay phát ...  \n",
      "7   - Pin chính hãng cho Samsung Galaxy Grand Prim...  \n",
      "8   Miền đất xa mạc – Dubai 🌞🌞🌞 ==================...  \n",
      "9   Các bạn ơi! Từ ngày 15/08, Viettel triển khai ...  \n",
      "10  CHO THUÊ CHUNG CƯ mini SIÊU ĐẸP, SIÊU RẺ tại n...  \n",
      "11  Căn hộ 45m² đầy đủ tiện nghi và vô cùng đẹp mắ...  \n",
      "12  Tài Chinh - Kinh Doanh. Sáng 26/2/2014.  Điểm ...  \n",
      "13  [OPEN MIND] 10 BÀI HỌC GIÁ TRỊ NẾU MUỐN THAY Đ...  \n",
      "14  KẾT QUẢ CHUNG KẾT TIME TO SHINE Mùa thứ 1 - 20...  \n",
      "15  Tài Chính - Kinh Doanh. Tối 15/11/2013  TRONG ...  \n",
      "16  ☀☀Cùng VPAC xác định thế mạnh bản thân, định h...  \n",
      "17  Bạn đang thừa cân và mục tiêu hàng đầu của bạn...  \n",
      "18  HƯỚNG DẪN CÔNG TÁC QUẢN LÝ HÓA ĐƠN TRONG DOANH...  \n",
      "19  HẠNH KIỂM CHƯA ĐỦ LÀ KHUÔN VÀNG THƯỚC NGỌC  . ...  \n",
      "20  Chính chủ cho thuê căn hộ chung cư tại 17T7, T...  \n",
      "21  HAI BÉ GÁI SỐNG SÓT SAU 2 NGÀY ĐÊM LẠC TRONG R...  \n",
      "22  Liền kề,Biệt Thự,ki ốt,chung cư Thanh Hà,Hà Đô...  \n",
      "23  Mua sắm cũng là một phần không thê thiếu trong...  \n",
      "24  Nước mắt hối hận của người chồng ngoại tình, đ...  \n",
      "25  Sau gần 2 tháng hòa nhập với môi trường mới và...  \n",
      "26  #Minigame #Tặng_sách🎁🎁🎁 #Tặng_COUPON💥 😉 \"Tất c...  \n",
      "27  #QĐND .    Sáng 17/2/1979, Trung Quốc đồng loạ...  \n",
      "28  🐸 Cho 1 vé về tuổi thơ với những món ăn dân dã...  \n",
      "29  [SOFT SKILLS] 3 MỤC TIÊU CHÍNH CỦA GIÁM ĐỐC MA...  \n"
     ]
    }
   ],
   "source": [
    "labels = []\n",
    "paragraphs = []\n",
    "\n",
    "# Read the file line by line\n",
    "with open('3.topic_detection_train.v1.0.txt', 'r', encoding='utf-8') as file:\n",
    "    for line in file:\n",
    "        # Strip any leading/trailing whitespace\n",
    "        line = line.strip()\n",
    "        # Split the line into label and paragraph\n",
    "        label, paragraph = line.split(' ', 1)\n",
    "        # Append to the lists\n",
    "        labels.append(label)\n",
    "        paragraphs.append(paragraph)\n",
    "\n",
    "# Create a DataFrame\n",
    "df = pd.DataFrame({\n",
    "    'label': labels,\n",
    "    'paragraph': paragraphs\n",
    "})\n",
    "print(df.head(30))"
   ]
  },
  {
   "cell_type": "markdown",
   "metadata": {},
   "source": [
    "### Làm sạch dữ liệu\n",
    "Làm sạch dữ liệu là bước đặc biệt quan trọng trong mọi bài toán phân tích dữ liệu nói chung và xử lý ngôn ngữ tự nhiên nói riêng.\n",
    "\n",
    "Việc văn bản được làm sạch giúp cách thuật toán có thể trích xuất được những đặc trưng tốt nhất từ đó nâng cao hiệu quả, chất lượng của các mô hình, thuật toán."
   ]
  },
  {
   "cell_type": "markdown",
   "metadata": {},
   "source": [
    "Tạo regular expression pattern để loại bỏ các URL"
   ]
  },
  {
   "cell_type": "code",
   "execution_count": 3,
   "metadata": {},
   "outputs": [
    {
     "name": "stdout",
     "output_type": "stream",
     "text": [
      "You can read more about AI at \n"
     ]
    }
   ],
   "source": [
    "url_example = \"You can read more about AI at https://viblo.asia/\"\n",
    "url_pattern = re.compile(r'http\\S+')\n",
    "print(url_pattern.sub(r'', url_example))"
   ]
  },
  {
   "cell_type": "markdown",
   "metadata": {},
   "source": [
    "Tạo regular expression pattern để bỏ các emoji"
   ]
  },
  {
   "cell_type": "code",
   "execution_count": 6,
   "metadata": {},
   "outputs": [
    {
     "data": {
      "text/plain": [
       "'Without you by my side, I am not complete. You have given me the best of love, and I want to be by your side forever. Thank you for giving my life that direction it needed. Thank you for loving me unconditional.'"
      ]
     },
     "execution_count": 6,
     "metadata": {},
     "output_type": "execute_result"
    }
   ],
   "source": [
    "emoji_pattern = re.compile(\"[\"\n",
    "                            u\"\\U0001F600-\\U0001F64F\"  # emoticons\n",
    "                            u\"\\U0001F300-\\U0001F5FF\"  # symbols & pictographs\n",
    "                            u\"\\U0001F680-\\U0001F6FF\"  # transport & map symbols\n",
    "                            u\"\\U0001F1E0-\\U0001F1FF\"  # flags (iOS)\n",
    "                            u\"\\U00002500-\\U00002BEF\"  # chinese char\n",
    "                            u\"\\U00002702-\\U000027B0\"\n",
    "                            u\"\\U00002702-\\U000027B0\"\n",
    "                            u\"\\U000024C2-\\U0001F251\"\n",
    "                            u\"\\U0001f926-\\U0001f937\"\n",
    "                            u\"\\U00010000-\\U0010ffff\"\n",
    "                            u\"\\u2640-\\u2642\"\n",
    "                            u\"\\u2600-\\u2B55\"\n",
    "                            u\"\\u200d\"\n",
    "                            u\"\\u23cf\"\n",
    "                            u\"\\u23e9\"\n",
    "                            u\"\\u231a\"\n",
    "                            u\"\\ufe0f\"  # dingbats\n",
    "                            u\"\\u3030\"\n",
    "                            \"]+\", flags=re.UNICODE)\n",
    "\n",
    "emoji_example = \"😅 👠 😆 Without you by my side, 💓 😉 I am not complete. You have given me the best of love, 🎈 and I want to be by your side forever. Thank you for giving my life that direction it needed. 💋‍ Thank you for loving me unconditional. 💏\"\n",
    "emoji_example = emoji_pattern.sub(r'', emoji_example)\n",
    "emoji_example = re.sub(r'\\s+', ' ', emoji_example).strip()\n",
    "emoji_example\n"
   ]
  },
  {
   "cell_type": "markdown",
   "metadata": {},
   "source": [
    "### Hàm tiền xử lý văn bản\n",
    "Pipeline tiền xử lý gồm 6 bước:\n",
    "- Loại bỏ URL (sử dụng pattern tạo ở trên)\n",
    "- Loại bỏ emoji (sử dụng pattern tạo ở trên)\n",
    "- Loại bỏ các ký tự đặc biệt\n",
    "- Loại bỏ các số\n",
    "- Bỏ khoảng trắng thừa\n",
    "- Chuyển tất cả thành chữ thường"
   ]
  },
  {
   "cell_type": "code",
   "execution_count": 12,
   "metadata": {},
   "outputs": [],
   "source": [
    "\n",
    "def preprocess_vietnamese_text(text):\n",
    "    # Loại bỏ URL\n",
    "    text = url_pattern.sub(r'', text)\n",
    "    # Loại bỏ emoji\n",
    "    text = emoji_pattern.sub(r'', text)\n",
    "    # Loại bỏ ký tự đặc biệt\n",
    "    text = re.sub(r'[^\\w\\s]', ' ', text)\n",
    "    # Loại bỏ toàn bộ số\n",
    "    text = re.sub(r'\\d+', ' ', text)\n",
    "    # Loại bỏ khoảng trắng thừa\n",
    "    text = re.sub(r'\\s+', ' ', text).strip()\n",
    "    # Chuyển sang chữ thường\n",
    "    text = text.lower()\n",
    "    return text"
   ]
  },
  {
   "cell_type": "code",
   "execution_count": 24,
   "metadata": {},
   "outputs": [
    {
     "name": "stdout",
     "output_type": "stream",
     "text": [
      "Ví dụ: \n",
      "Văn bản gốc: \n",
      " Miền đất xa mạc – Dubai 🌞🌞🌞 ===================== Sự mênh mông của sa mạc ở Dubai sẽ khiến cho bạn cảm thấy mình nhỏ bé và lọt thỏm giữa vẻ kỳ vỹ của thiên nhiên, bạn sẽ cứ mải miết đắm chìm trong vẻ đẹp tưởng chừng như ảo ảnh đó. Trên lưng lạc đà trên xa mạc 🐪🐪🐪, bạn sẽ có cảm giác mình đang đi trong câu chuyện cổ Alibaba hay trở thành một thương nhân trên con đường tơ lụa huyền thoại nối liền Đông Tây. Bạn cũng được trải nghiểm hành trình đua xe sa mạc bằng xe Landcruiser. Lên tầng 124 của tào tháp 164 tầng cao nhất thế giới để chiêm ngương xa xỉ của Dubai🔬🔬🔬. Hãy để Hanoitourist giúp bạn thực hiện điều đó để trải nghiệm những cảm giác chưa từng có. 💖💖💖 ===================== Dubai – Vương Quốc xa xỉ Bay: Emirates 5* Khởi hành: 12/03, 21/03, 02/04, 19/04, 08/05, 21/05, 04/06, 20/06 Thời gian: 6 ngày/5 đêm Giá: 24.900.000đ Chi tiết: http://bit.ly/Dubai-Hanoitourist ===================== 👌 LIÊN HỆ HANOITOURIST  👌 📩 Địa chỉ: Số 18 Lý Thường Kiệt, Hoàn Kiếm, Hà Nội ☎ Hotline: 04 62703307 / 0977200580  🌍 Website: http://hanoitourist.vn/ 💻 Chat cùng chúng tôi và nhận được các thông tin hữu ích và kịp thời nhất. Hanoitourist - Tự hào thương hiệu du lịch đầu tiên của thủ đô Hà Nội từ 1963\n",
      "Sau khi tiền xử lý: \n",
      " miền đất xa mạc dubai sự mênh mông của sa mạc ở dubai sẽ khiến cho bạn cảm thấy mình nhỏ bé và lọt thỏm giữa vẻ kỳ vỹ của thiên nhiên bạn sẽ cứ mải miết đắm chìm trong vẻ đẹp tưởng chừng như ảo ảnh đó trên lưng lạc đà trên xa mạc bạn sẽ có cảm giác mình đang đi trong câu chuyện cổ alibaba hay trở thành một thương nhân trên con đường tơ lụa huyền thoại nối liền đông tây bạn cũng được trải nghiểm hành trình đua xe sa mạc bằng xe landcruiser lên tầng của tào tháp tầng cao nhất thế giới để chiêm ngương xa xỉ của dubai hãy để hanoitourist giúp bạn thực hiện điều đó để trải nghiệm những cảm giác chưa từng có dubai vương quốc xa xỉ bay emirates khởi hành thời gian ngày đêm giá đ chi tiết liên hệ hanoitourist địa chỉ số lý thường kiệt hoàn kiếm hà nội hotline website chat cùng chúng tôi và nhận được các thông tin hữu ích và kịp thời nhất hanoitourist tự hào thương hiệu du lịch đầu tiên của thủ đô hà nội từ\n"
     ]
    }
   ],
   "source": [
    "print('Ví dụ: ')\n",
    "print(\"Văn bản gốc: \\n\", df['paragraph'][8])\n",
    "print(\"Sau khi tiền xử lý: \\n\", preprocess_vietnamese_text(df['paragraph'][8]))"
   ]
  },
  {
   "cell_type": "code",
   "execution_count": 14,
   "metadata": {},
   "outputs": [],
   "source": [
    "df['paragraph'] = df['paragraph'].apply(preprocess_vietnamese_text)\n",
    "df.to_csv('train_cleaned.txt', sep=',', index=False, header=False)"
   ]
  },
  {
   "cell_type": "code",
   "execution_count": 15,
   "metadata": {},
   "outputs": [
    {
     "data": {
      "text/html": [
       "<div>\n",
       "<style scoped>\n",
       "    .dataframe tbody tr th:only-of-type {\n",
       "        vertical-align: middle;\n",
       "    }\n",
       "\n",
       "    .dataframe tbody tr th {\n",
       "        vertical-align: top;\n",
       "    }\n",
       "\n",
       "    .dataframe thead th {\n",
       "        text-align: right;\n",
       "    }\n",
       "</style>\n",
       "<table border=\"1\" class=\"dataframe\">\n",
       "  <thead>\n",
       "    <tr style=\"text-align: right;\">\n",
       "      <th></th>\n",
       "      <th>label</th>\n",
       "      <th>paragraph</th>\n",
       "    </tr>\n",
       "  </thead>\n",
       "  <tbody>\n",
       "    <tr>\n",
       "      <th>0</th>\n",
       "      <td>__label__Du_lich</td>\n",
       "      <td>theo hành trình tour du lịch mỹ bờ đông du khá...</td>\n",
       "    </tr>\n",
       "    <tr>\n",
       "      <th>1</th>\n",
       "      <td>__label__Nha_dat</td>\n",
       "      <td>mình cần tìm phòng cho khoảng người quanh khu ...</td>\n",
       "    </tr>\n",
       "    <tr>\n",
       "      <th>2</th>\n",
       "      <td>__label__Nha_dat</td>\n",
       "      <td>cho thuê nhà riêng dt m sàn có phòng ngủ p khá...</td>\n",
       "    </tr>\n",
       "    <tr>\n",
       "      <th>3</th>\n",
       "      <td>__label__Nha_dat</td>\n",
       "      <td>cho thuê nhà ở tầng khép kín nguyễn khoái có b...</td>\n",
       "    </tr>\n",
       "    <tr>\n",
       "      <th>4</th>\n",
       "      <td>__label__Mua_sam</td>\n",
       "      <td>crumpler jackpack full photo giá vnđ giảm còn ...</td>\n",
       "    </tr>\n",
       "  </tbody>\n",
       "</table>\n",
       "</div>"
      ],
      "text/plain": [
       "              label                                          paragraph\n",
       "0  __label__Du_lich  theo hành trình tour du lịch mỹ bờ đông du khá...\n",
       "1  __label__Nha_dat  mình cần tìm phòng cho khoảng người quanh khu ...\n",
       "2  __label__Nha_dat  cho thuê nhà riêng dt m sàn có phòng ngủ p khá...\n",
       "3  __label__Nha_dat  cho thuê nhà ở tầng khép kín nguyễn khoái có b...\n",
       "4  __label__Mua_sam  crumpler jackpack full photo giá vnđ giảm còn ..."
      ]
     },
     "execution_count": 15,
     "metadata": {},
     "output_type": "execute_result"
    }
   ],
   "source": [
    "df.head()"
   ]
  },
  {
   "cell_type": "code",
   "execution_count": 16,
   "metadata": {},
   "outputs": [],
   "source": [
    "def tokenize_vietnamese_text(text):\n",
    "    sentence = word_tokenize(text, format=\"text\")\n",
    "    return sentence\n",
    "\n",
    "df['paragraph'] = df['paragraph'].apply(tokenize_vietnamese_text)\n",
    "df.to_csv('train_cleaned_segmented.txt', sep=',', index=False, header=True)"
   ]
  },
  {
   "cell_type": "code",
   "execution_count": null,
   "metadata": {},
   "outputs": [],
   "source": []
  }
 ],
 "metadata": {
  "kernelspec": {
   "display_name": "Python 3",
   "language": "python",
   "name": "python3"
  },
  "language_info": {
   "codemirror_mode": {
    "name": "ipython",
    "version": 3
   },
   "file_extension": ".py",
   "mimetype": "text/x-python",
   "name": "python",
   "nbconvert_exporter": "python",
   "pygments_lexer": "ipython3",
   "version": "3.11.1"
  }
 },
 "nbformat": 4,
 "nbformat_minor": 2
}
